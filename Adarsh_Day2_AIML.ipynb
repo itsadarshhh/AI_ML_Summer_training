{
  "cells": [
    {
      "cell_type": "code",
      "execution_count": null,
      "id": "b7898879-dc77-4f18-9123-84251a32715d",
      "metadata": {
        "id": "b7898879-dc77-4f18-9123-84251a32715d",
        "outputId": "a29b74fa-147d-4bfd-9e47-5b33e31d1ffb"
      },
      "outputs": [
        {
          "name": "stdout",
          "output_type": "stream",
          "text": [
            "[[99 78 61 16 73  8 62 27 30]\n",
            " [80  7 76 15 53 80 27 44 77]\n",
            " [75 65 47 30 84 86 18  9 41]\n",
            " [62  1 82 16 78  5 58  0 80]\n",
            " [ 4 36 51 27 31  2 68 38 83]\n",
            " [19 18  7 30 62 11 67 65 55]\n",
            " [ 3 91 78 27 29 33 89 85  7]\n",
            " [16 94 14 90 31  9 38 47 16]\n",
            " [ 5 34 45 59 24 13 31 32 76]]\n"
          ]
        }
      ],
      "source": [
        "np.random.seed(5)\n",
        "val = np.random.randint(0,100,size=(9,9))\n",
        "print(val)"
      ]
    },
    {
      "cell_type": "code",
      "execution_count": null,
      "id": "8766f641-c870-4bd3-ad54-5aa25be40d4e",
      "metadata": {
        "id": "8766f641-c870-4bd3-ad54-5aa25be40d4e",
        "outputId": "45291b9f-8986-4a03-d3b1-b974f87d57bd"
      },
      "outputs": [
        {
          "name": "stdout",
          "output_type": "stream",
          "text": [
            "[50.44444444444444, 51.0, 50.55555555555556, 42.44444444444444, 37.77777777777778, 37.111111111111114, 49.111111111111114, 39.44444444444444, 35.44444444444444]\n"
          ]
        }
      ],
      "source": [
        "B = []\n",
        "for i in range (0,val.shape[0],1):\n",
        "  temp = val[i,:].mean()\n",
        "  B.append(temp)\n",
        "print(B)"
      ]
    },
    {
      "cell_type": "code",
      "execution_count": null,
      "id": "0f3aca6a-e454-4da6-a285-7554730caa3f",
      "metadata": {
        "id": "0f3aca6a-e454-4da6-a285-7554730caa3f"
      },
      "outputs": [],
      "source": [
        "C =np.zeros(A.shape[0],A.shape[1]))\n",
        "ZerosCount = 0\n",
        "Non_Zero_Count = 0\n",
        "for i in range(val.shape[0]):\n",
        "    for j in range(val.shape[1])):\n",
        "        if(val[i,j]>B[i]:\n",
        "            C[i,j] = 0\n",
        "            ZerosCount = ZerosCount+1\n",
        "        else:\n",
        "            C[i,j] = A[i,j]\n",
        "            Non_zero"
      ]
    },
    {
      "cell_type": "code",
      "execution_count": null,
      "id": "9d7fe6c0-5b9e-4210-a6d7-78bb2361fcac",
      "metadata": {
        "id": "9d7fe6c0-5b9e-4210-a6d7-78bb2361fcac",
        "outputId": "bd8f66b6-c05a-4820-e2a8-3b3230c42c74"
      },
      "outputs": [
        {
          "name": "stdout",
          "output_type": "stream",
          "text": [
            "<class 'pandas.core.frame.DataFrame'>\n",
            "(18625, 10)\n"
          ]
        }
      ],
      "source": [
        "import pandas as pd\n",
        "path = './ign.csv'\n",
        "data = pd.read_csv(path)\n",
        "print(type(data))\n",
        "print(data.shape)"
      ]
    },
    {
      "cell_type": "code",
      "execution_count": null,
      "id": "43479d32-0972-4c86-9a52-1081b03f4385",
      "metadata": {
        "id": "43479d32-0972-4c86-9a52-1081b03f4385",
        "outputId": "45be9f4c-33e4-4071-ea87-cf8598ba6a39"
      },
      "outputs": [
        {
          "data": {
            "text/html": [
              "<div>\n",
              "<style scoped>\n",
              "    .dataframe tbody tr th:only-of-type {\n",
              "        vertical-align: middle;\n",
              "    }\n",
              "\n",
              "    .dataframe tbody tr th {\n",
              "        vertical-align: top;\n",
              "    }\n",
              "\n",
              "    .dataframe thead th {\n",
              "        text-align: right;\n",
              "    }\n",
              "</style>\n",
              "<table border=\"1\" class=\"dataframe\">\n",
              "  <thead>\n",
              "    <tr style=\"text-align: right;\">\n",
              "      <th></th>\n",
              "      <th>platform</th>\n",
              "      <th>score_phrase</th>\n",
              "      <th>score</th>\n",
              "    </tr>\n",
              "  </thead>\n",
              "  <tbody>\n",
              "    <tr>\n",
              "      <th>2</th>\n",
              "      <td>iPad</td>\n",
              "      <td>Great</td>\n",
              "      <td>8.5</td>\n",
              "    </tr>\n",
              "    <tr>\n",
              "      <th>3</th>\n",
              "      <td>Xbox 360</td>\n",
              "      <td>Great</td>\n",
              "      <td>8.5</td>\n",
              "    </tr>\n",
              "    <tr>\n",
              "      <th>4</th>\n",
              "      <td>PlayStation 3</td>\n",
              "      <td>Great</td>\n",
              "      <td>8.5</td>\n",
              "    </tr>\n",
              "    <tr>\n",
              "      <th>5</th>\n",
              "      <td>Macintosh</td>\n",
              "      <td>Good</td>\n",
              "      <td>7.0</td>\n",
              "    </tr>\n",
              "  </tbody>\n",
              "</table>\n",
              "</div>"
            ],
            "text/plain": [
              "        platform score_phrase  score\n",
              "2           iPad        Great    8.5\n",
              "3       Xbox 360        Great    8.5\n",
              "4  PlayStation 3        Great    8.5\n",
              "5      Macintosh         Good    7.0"
            ]
          },
          "execution_count": 2,
          "metadata": {},
          "output_type": "execute_result"
        }
      ],
      "source": [
        "data.iloc[2:6,[3,0,4]]"
      ]
    },
    {
      "cell_type": "code",
      "execution_count": null,
      "id": "5d386991-c440-4b8a-8095-b9421665ee17",
      "metadata": {
        "id": "5d386991-c440-4b8a-8095-b9421665ee17",
        "outputId": "79b2e4c9-f212-4da7-bd2a-e7e5abb3b979"
      },
      "outputs": [
        {
          "data": {
            "text/html": [
              "<div>\n",
              "<style scoped>\n",
              "    .dataframe tbody tr th:only-of-type {\n",
              "        vertical-align: middle;\n",
              "    }\n",
              "\n",
              "    .dataframe tbody tr th {\n",
              "        vertical-align: top;\n",
              "    }\n",
              "\n",
              "    .dataframe thead th {\n",
              "        text-align: right;\n",
              "    }\n",
              "</style>\n",
              "<table border=\"1\" class=\"dataframe\">\n",
              "  <thead>\n",
              "    <tr style=\"text-align: right;\">\n",
              "      <th></th>\n",
              "      <th>score_phrase</th>\n",
              "      <th>title</th>\n",
              "      <th>url</th>\n",
              "      <th>platform</th>\n",
              "      <th>score</th>\n",
              "      <th>genre</th>\n",
              "      <th>editors_choice</th>\n",
              "      <th>release_year</th>\n",
              "      <th>release_month</th>\n",
              "      <th>release_day</th>\n",
              "    </tr>\n",
              "  </thead>\n",
              "  <tbody>\n",
              "    <tr>\n",
              "      <th>0</th>\n",
              "      <td>Amazing</td>\n",
              "      <td>LittleBigPlanet PS Vita</td>\n",
              "      <td>/games/littlebigplanet-vita/vita-98907</td>\n",
              "      <td>PlayStation Vita</td>\n",
              "      <td>9.0</td>\n",
              "      <td>Platformer</td>\n",
              "      <td>Y</td>\n",
              "      <td>2012</td>\n",
              "      <td>9</td>\n",
              "      <td>12</td>\n",
              "    </tr>\n",
              "    <tr>\n",
              "      <th>1</th>\n",
              "      <td>Amazing</td>\n",
              "      <td>LittleBigPlanet PS Vita -- Marvel Super Hero E...</td>\n",
              "      <td>/games/littlebigplanet-ps-vita-marvel-super-he...</td>\n",
              "      <td>PlayStation Vita</td>\n",
              "      <td>9.0</td>\n",
              "      <td>Platformer</td>\n",
              "      <td>Y</td>\n",
              "      <td>2012</td>\n",
              "      <td>9</td>\n",
              "      <td>12</td>\n",
              "    </tr>\n",
              "    <tr>\n",
              "      <th>2</th>\n",
              "      <td>Great</td>\n",
              "      <td>Splice: Tree of Life</td>\n",
              "      <td>/games/splice/ipad-141070</td>\n",
              "      <td>iPad</td>\n",
              "      <td>8.5</td>\n",
              "      <td>Puzzle</td>\n",
              "      <td>N</td>\n",
              "      <td>2012</td>\n",
              "      <td>9</td>\n",
              "      <td>12</td>\n",
              "    </tr>\n",
              "    <tr>\n",
              "      <th>3</th>\n",
              "      <td>Great</td>\n",
              "      <td>NHL 13</td>\n",
              "      <td>/games/nhl-13/xbox-360-128182</td>\n",
              "      <td>Xbox 360</td>\n",
              "      <td>8.5</td>\n",
              "      <td>Sports</td>\n",
              "      <td>N</td>\n",
              "      <td>2012</td>\n",
              "      <td>9</td>\n",
              "      <td>11</td>\n",
              "    </tr>\n",
              "    <tr>\n",
              "      <th>4</th>\n",
              "      <td>Great</td>\n",
              "      <td>NHL 13</td>\n",
              "      <td>/games/nhl-13/ps3-128181</td>\n",
              "      <td>PlayStation 3</td>\n",
              "      <td>8.5</td>\n",
              "      <td>Sports</td>\n",
              "      <td>N</td>\n",
              "      <td>2012</td>\n",
              "      <td>9</td>\n",
              "      <td>11</td>\n",
              "    </tr>\n",
              "  </tbody>\n",
              "</table>\n",
              "</div>"
            ],
            "text/plain": [
              "  score_phrase                                              title  \\\n",
              "0      Amazing                            LittleBigPlanet PS Vita   \n",
              "1      Amazing  LittleBigPlanet PS Vita -- Marvel Super Hero E...   \n",
              "2        Great                               Splice: Tree of Life   \n",
              "3        Great                                             NHL 13   \n",
              "4        Great                                             NHL 13   \n",
              "\n",
              "                                                 url          platform  score  \\\n",
              "0             /games/littlebigplanet-vita/vita-98907  PlayStation Vita    9.0   \n",
              "1  /games/littlebigplanet-ps-vita-marvel-super-he...  PlayStation Vita    9.0   \n",
              "2                          /games/splice/ipad-141070              iPad    8.5   \n",
              "3                      /games/nhl-13/xbox-360-128182          Xbox 360    8.5   \n",
              "4                           /games/nhl-13/ps3-128181     PlayStation 3    8.5   \n",
              "\n",
              "        genre editors_choice  release_year  release_month  release_day  \n",
              "0  Platformer              Y          2012              9           12  \n",
              "1  Platformer              Y          2012              9           12  \n",
              "2      Puzzle              N          2012              9           12  \n",
              "3      Sports              N          2012              9           11  \n",
              "4      Sports              N          2012              9           11  "
            ]
          },
          "execution_count": 3,
          "metadata": {},
          "output_type": "execute_result"
        }
      ],
      "source": [
        "data.head()"
      ]
    },
    {
      "cell_type": "code",
      "execution_count": null,
      "id": "3e862c8e-d40a-4022-885d-f3b673cf11f2",
      "metadata": {
        "id": "3e862c8e-d40a-4022-885d-f3b673cf11f2",
        "outputId": "fe9e441c-4684-4daf-c391-4a73ef6a2585"
      },
      "outputs": [
        {
          "data": {
            "text/html": [
              "<div>\n",
              "<style scoped>\n",
              "    .dataframe tbody tr th:only-of-type {\n",
              "        vertical-align: middle;\n",
              "    }\n",
              "\n",
              "    .dataframe tbody tr th {\n",
              "        vertical-align: top;\n",
              "    }\n",
              "\n",
              "    .dataframe thead th {\n",
              "        text-align: right;\n",
              "    }\n",
              "</style>\n",
              "<table border=\"1\" class=\"dataframe\">\n",
              "  <thead>\n",
              "    <tr style=\"text-align: right;\">\n",
              "      <th></th>\n",
              "      <th>score_phrase</th>\n",
              "      <th>title</th>\n",
              "      <th>url</th>\n",
              "      <th>platform</th>\n",
              "      <th>score</th>\n",
              "      <th>genre</th>\n",
              "      <th>editors_choice</th>\n",
              "      <th>release_year</th>\n",
              "      <th>release_month</th>\n",
              "      <th>release_day</th>\n",
              "    </tr>\n",
              "  </thead>\n",
              "  <tbody>\n",
              "    <tr>\n",
              "      <th>18620</th>\n",
              "      <td>Good</td>\n",
              "      <td>Tokyo Mirage Sessions #FE</td>\n",
              "      <td>/games/fire-emblem-x-shin-megami-tensei/wii-u-...</td>\n",
              "      <td>Wii U</td>\n",
              "      <td>7.6</td>\n",
              "      <td>RPG</td>\n",
              "      <td>N</td>\n",
              "      <td>2016</td>\n",
              "      <td>6</td>\n",
              "      <td>29</td>\n",
              "    </tr>\n",
              "    <tr>\n",
              "      <th>18621</th>\n",
              "      <td>Amazing</td>\n",
              "      <td>LEGO Star Wars: The Force Awakens</td>\n",
              "      <td>/games/lego-star-wars-the-force-awakens/ps4-20...</td>\n",
              "      <td>PlayStation 4</td>\n",
              "      <td>9.0</td>\n",
              "      <td>Action, Adventure</td>\n",
              "      <td>Y</td>\n",
              "      <td>2016</td>\n",
              "      <td>6</td>\n",
              "      <td>29</td>\n",
              "    </tr>\n",
              "    <tr>\n",
              "      <th>18622</th>\n",
              "      <td>Mediocre</td>\n",
              "      <td>Star Ocean: Integrity and Faithlessness</td>\n",
              "      <td>/games/star-ocean-5/ps4-20035681</td>\n",
              "      <td>PlayStation 4</td>\n",
              "      <td>5.8</td>\n",
              "      <td>RPG</td>\n",
              "      <td>N</td>\n",
              "      <td>2016</td>\n",
              "      <td>6</td>\n",
              "      <td>28</td>\n",
              "    </tr>\n",
              "    <tr>\n",
              "      <th>18623</th>\n",
              "      <td>Masterpiece</td>\n",
              "      <td>Inside</td>\n",
              "      <td>/games/inside-playdead/xbox-one-121435</td>\n",
              "      <td>Xbox One</td>\n",
              "      <td>10.0</td>\n",
              "      <td>Adventure</td>\n",
              "      <td>Y</td>\n",
              "      <td>2016</td>\n",
              "      <td>6</td>\n",
              "      <td>28</td>\n",
              "    </tr>\n",
              "    <tr>\n",
              "      <th>18624</th>\n",
              "      <td>Masterpiece</td>\n",
              "      <td>Inside</td>\n",
              "      <td>/games/inside-playdead/pc-20055740</td>\n",
              "      <td>PC</td>\n",
              "      <td>10.0</td>\n",
              "      <td>Adventure</td>\n",
              "      <td>Y</td>\n",
              "      <td>2016</td>\n",
              "      <td>6</td>\n",
              "      <td>28</td>\n",
              "    </tr>\n",
              "  </tbody>\n",
              "</table>\n",
              "</div>"
            ],
            "text/plain": [
              "      score_phrase                                    title  \\\n",
              "18620         Good                Tokyo Mirage Sessions #FE   \n",
              "18621      Amazing        LEGO Star Wars: The Force Awakens   \n",
              "18622     Mediocre  Star Ocean: Integrity and Faithlessness   \n",
              "18623  Masterpiece                                   Inside   \n",
              "18624  Masterpiece                                   Inside   \n",
              "\n",
              "                                                     url       platform  \\\n",
              "18620  /games/fire-emblem-x-shin-megami-tensei/wii-u-...          Wii U   \n",
              "18621  /games/lego-star-wars-the-force-awakens/ps4-20...  PlayStation 4   \n",
              "18622                   /games/star-ocean-5/ps4-20035681  PlayStation 4   \n",
              "18623             /games/inside-playdead/xbox-one-121435       Xbox One   \n",
              "18624                 /games/inside-playdead/pc-20055740             PC   \n",
              "\n",
              "       score              genre editors_choice  release_year  release_month  \\\n",
              "18620    7.6                RPG              N          2016              6   \n",
              "18621    9.0  Action, Adventure              Y          2016              6   \n",
              "18622    5.8                RPG              N          2016              6   \n",
              "18623   10.0          Adventure              Y          2016              6   \n",
              "18624   10.0          Adventure              Y          2016              6   \n",
              "\n",
              "       release_day  \n",
              "18620           29  \n",
              "18621           29  \n",
              "18622           28  \n",
              "18623           28  \n",
              "18624           28  "
            ]
          },
          "execution_count": 4,
          "metadata": {},
          "output_type": "execute_result"
        }
      ],
      "source": [
        "data.tail()\n"
      ]
    },
    {
      "cell_type": "code",
      "execution_count": null,
      "id": "afe24aa1-d4ec-4ac2-8379-a9770efbc498",
      "metadata": {
        "id": "afe24aa1-d4ec-4ac2-8379-a9770efbc498",
        "outputId": "ae152a8c-0c57-4507-e642-3cd6f2c85144"
      },
      "outputs": [
        {
          "data": {
            "text/html": [
              "<div>\n",
              "<style scoped>\n",
              "    .dataframe tbody tr th:only-of-type {\n",
              "        vertical-align: middle;\n",
              "    }\n",
              "\n",
              "    .dataframe tbody tr th {\n",
              "        vertical-align: top;\n",
              "    }\n",
              "\n",
              "    .dataframe thead th {\n",
              "        text-align: right;\n",
              "    }\n",
              "</style>\n",
              "<table border=\"1\" class=\"dataframe\">\n",
              "  <thead>\n",
              "    <tr style=\"text-align: right;\">\n",
              "      <th></th>\n",
              "      <th>score_phrase</th>\n",
              "      <th>score</th>\n",
              "    </tr>\n",
              "  </thead>\n",
              "  <tbody>\n",
              "    <tr>\n",
              "      <th>2</th>\n",
              "      <td>Great</td>\n",
              "      <td>8.5</td>\n",
              "    </tr>\n",
              "    <tr>\n",
              "      <th>3</th>\n",
              "      <td>Great</td>\n",
              "      <td>8.5</td>\n",
              "    </tr>\n",
              "    <tr>\n",
              "      <th>4</th>\n",
              "      <td>Great</td>\n",
              "      <td>8.5</td>\n",
              "    </tr>\n",
              "    <tr>\n",
              "      <th>5</th>\n",
              "      <td>Good</td>\n",
              "      <td>7.0</td>\n",
              "    </tr>\n",
              "  </tbody>\n",
              "</table>\n",
              "</div>"
            ],
            "text/plain": [
              "  score_phrase  score\n",
              "2        Great    8.5\n",
              "3        Great    8.5\n",
              "4        Great    8.5\n",
              "5         Good    7.0"
            ]
          },
          "execution_count": 9,
          "metadata": {},
          "output_type": "execute_result"
        }
      ],
      "source": [
        "data.loc[2:5,['score_phrase','score']]"
      ]
    },
    {
      "cell_type": "code",
      "execution_count": null,
      "id": "051fd927-a2ef-4c8d-8e22-58a3f118f2c0",
      "metadata": {
        "id": "051fd927-a2ef-4c8d-8e22-58a3f118f2c0",
        "outputId": "88cd8ee1-88bb-42fc-b0e9-3389e6bbd6f9"
      },
      "outputs": [
        {
          "data": {
            "text/html": [
              "<div>\n",
              "<style scoped>\n",
              "    .dataframe tbody tr th:only-of-type {\n",
              "        vertical-align: middle;\n",
              "    }\n",
              "\n",
              "    .dataframe tbody tr th {\n",
              "        vertical-align: top;\n",
              "    }\n",
              "\n",
              "    .dataframe thead th {\n",
              "        text-align: right;\n",
              "    }\n",
              "</style>\n",
              "<table border=\"1\" class=\"dataframe\">\n",
              "  <thead>\n",
              "    <tr style=\"text-align: right;\">\n",
              "      <th></th>\n",
              "      <th>score</th>\n",
              "      <th>platform</th>\n",
              "    </tr>\n",
              "  </thead>\n",
              "  <tbody>\n",
              "    <tr>\n",
              "      <th>0</th>\n",
              "      <td>9.0</td>\n",
              "      <td>PlayStation Vita</td>\n",
              "    </tr>\n",
              "    <tr>\n",
              "      <th>1</th>\n",
              "      <td>9.0</td>\n",
              "      <td>PlayStation Vita</td>\n",
              "    </tr>\n",
              "    <tr>\n",
              "      <th>2</th>\n",
              "      <td>8.5</td>\n",
              "      <td>iPad</td>\n",
              "    </tr>\n",
              "    <tr>\n",
              "      <th>3</th>\n",
              "      <td>8.5</td>\n",
              "      <td>Xbox 360</td>\n",
              "    </tr>\n",
              "    <tr>\n",
              "      <th>4</th>\n",
              "      <td>8.5</td>\n",
              "      <td>PlayStation 3</td>\n",
              "    </tr>\n",
              "    <tr>\n",
              "      <th>...</th>\n",
              "      <td>...</td>\n",
              "      <td>...</td>\n",
              "    </tr>\n",
              "    <tr>\n",
              "      <th>18620</th>\n",
              "      <td>7.6</td>\n",
              "      <td>Wii U</td>\n",
              "    </tr>\n",
              "    <tr>\n",
              "      <th>18621</th>\n",
              "      <td>9.0</td>\n",
              "      <td>PlayStation 4</td>\n",
              "    </tr>\n",
              "    <tr>\n",
              "      <th>18622</th>\n",
              "      <td>5.8</td>\n",
              "      <td>PlayStation 4</td>\n",
              "    </tr>\n",
              "    <tr>\n",
              "      <th>18623</th>\n",
              "      <td>10.0</td>\n",
              "      <td>Xbox One</td>\n",
              "    </tr>\n",
              "    <tr>\n",
              "      <th>18624</th>\n",
              "      <td>10.0</td>\n",
              "      <td>PC</td>\n",
              "    </tr>\n",
              "  </tbody>\n",
              "</table>\n",
              "<p>18625 rows × 2 columns</p>\n",
              "</div>"
            ],
            "text/plain": [
              "       score          platform\n",
              "0        9.0  PlayStation Vita\n",
              "1        9.0  PlayStation Vita\n",
              "2        8.5              iPad\n",
              "3        8.5          Xbox 360\n",
              "4        8.5     PlayStation 3\n",
              "...      ...               ...\n",
              "18620    7.6             Wii U\n",
              "18621    9.0     PlayStation 4\n",
              "18622    5.8     PlayStation 4\n",
              "18623   10.0          Xbox One\n",
              "18624   10.0                PC\n",
              "\n",
              "[18625 rows x 2 columns]"
            ]
          },
          "execution_count": 10,
          "metadata": {},
          "output_type": "execute_result"
        }
      ],
      "source": [
        "#all samples accessing using column labels\n",
        "data[['score','platform']]"
      ]
    },
    {
      "cell_type": "code",
      "execution_count": null,
      "id": "4528c7ac-b61b-4b52-95f7-94c8a3b444ce",
      "metadata": {
        "id": "4528c7ac-b61b-4b52-95f7-94c8a3b444ce",
        "outputId": "87d8519a-f787-40d1-ee08-cbc6c5714c1f"
      },
      "outputs": [
        {
          "data": {
            "text/plain": [
              "<bound method DataFrame.info of       score_phrase                                              title  \\\n",
              "0          Amazing                            LittleBigPlanet PS Vita   \n",
              "1          Amazing  LittleBigPlanet PS Vita -- Marvel Super Hero E...   \n",
              "2            Great                               Splice: Tree of Life   \n",
              "3            Great                                             NHL 13   \n",
              "4            Great                                             NHL 13   \n",
              "...            ...                                                ...   \n",
              "18620         Good                          Tokyo Mirage Sessions #FE   \n",
              "18621      Amazing                  LEGO Star Wars: The Force Awakens   \n",
              "18622     Mediocre            Star Ocean: Integrity and Faithlessness   \n",
              "18623  Masterpiece                                             Inside   \n",
              "18624  Masterpiece                                             Inside   \n",
              "\n",
              "                                                     url          platform  \\\n",
              "0                 /games/littlebigplanet-vita/vita-98907  PlayStation Vita   \n",
              "1      /games/littlebigplanet-ps-vita-marvel-super-he...  PlayStation Vita   \n",
              "2                              /games/splice/ipad-141070              iPad   \n",
              "3                          /games/nhl-13/xbox-360-128182          Xbox 360   \n",
              "4                               /games/nhl-13/ps3-128181     PlayStation 3   \n",
              "...                                                  ...               ...   \n",
              "18620  /games/fire-emblem-x-shin-megami-tensei/wii-u-...             Wii U   \n",
              "18621  /games/lego-star-wars-the-force-awakens/ps4-20...     PlayStation 4   \n",
              "18622                   /games/star-ocean-5/ps4-20035681     PlayStation 4   \n",
              "18623             /games/inside-playdead/xbox-one-121435          Xbox One   \n",
              "18624                 /games/inside-playdead/pc-20055740                PC   \n",
              "\n",
              "       score              genre editors_choice  release_year  release_month  \\\n",
              "0        9.0         Platformer              Y          2012              9   \n",
              "1        9.0         Platformer              Y          2012              9   \n",
              "2        8.5             Puzzle              N          2012              9   \n",
              "3        8.5             Sports              N          2012              9   \n",
              "4        8.5             Sports              N          2012              9   \n",
              "...      ...                ...            ...           ...            ...   \n",
              "18620    7.6                RPG              N          2016              6   \n",
              "18621    9.0  Action, Adventure              Y          2016              6   \n",
              "18622    5.8                RPG              N          2016              6   \n",
              "18623   10.0          Adventure              Y          2016              6   \n",
              "18624   10.0          Adventure              Y          2016              6   \n",
              "\n",
              "       release_day  \n",
              "0               12  \n",
              "1               12  \n",
              "2               12  \n",
              "3               11  \n",
              "4               11  \n",
              "...            ...  \n",
              "18620           29  \n",
              "18621           29  \n",
              "18622           28  \n",
              "18623           28  \n",
              "18624           28  \n",
              "\n",
              "[18625 rows x 10 columns]>"
            ]
          },
          "execution_count": 13,
          "metadata": {},
          "output_type": "execute_result"
        }
      ],
      "source": [
        "data.info"
      ]
    },
    {
      "cell_type": "code",
      "execution_count": null,
      "id": "6bd3efdb-e0d5-4365-adff-a432f3bbb6d8",
      "metadata": {
        "id": "6bd3efdb-e0d5-4365-adff-a432f3bbb6d8",
        "outputId": "5b9ea60c-1908-429f-93fd-9f4204adaafd"
      },
      "outputs": [
        {
          "name": "stdout",
          "output_type": "stream",
          "text": [
            "variance:  2.930039657164422\n",
            "Average:  6.950459060402685\n",
            "Minimum:  0.5\n",
            "Maximum:  10.0\n",
            "Standard Deviation:  1.7117358608045874\n"
          ]
        }
      ],
      "source": [
        "#access the scores of all the games\n",
        "score = data['score']\n",
        "#average of the score\n",
        "avg = score.mean()\n",
        "mn = score.min()\n",
        "mx = score.max()\n",
        "var = score.var()\n",
        "std = score.std()\n",
        "\n",
        "print(\"variance: \" , var)\n",
        "print(\"Average: \" , avg)\n",
        "print(\"Minimum: \" ,mn)\n",
        "print(\"Maximum: \" , mx)\n",
        "print(\"Standard Deviation: \" , std)"
      ]
    },
    {
      "cell_type": "code",
      "execution_count": null,
      "id": "840106ca-df4b-4a8d-8b90-20ac6d1c2396",
      "metadata": {
        "id": "840106ca-df4b-4a8d-8b90-20ac6d1c2396",
        "outputId": "2d6f9c5e-6065-4a22-d968-54e5702e886b"
      },
      "outputs": [
        {
          "data": {
            "text/plain": [
              "count    18625.000000\n",
              "mean         6.950459\n",
              "std          1.711736\n",
              "min          0.500000\n",
              "25%          6.000000\n",
              "50%          7.300000\n",
              "75%          8.200000\n",
              "max         10.000000\n",
              "Name: score, dtype: float64"
            ]
          },
          "execution_count": 16,
          "metadata": {},
          "output_type": "execute_result"
        }
      ],
      "source": [
        "score.describe()"
      ]
    },
    {
      "cell_type": "code",
      "execution_count": null,
      "id": "84d9bf3c-aff3-4642-b5c9-4541e205b315",
      "metadata": {
        "id": "84d9bf3c-aff3-4642-b5c9-4541e205b315",
        "outputId": "45a93aa3-b5cf-4304-dda6-33ced17a1d9c"
      },
      "outputs": [
        {
          "name": "stdout",
          "output_type": "stream",
          "text": [
            "0\n",
            "1\n",
            "2\n",
            "3\n",
            "4\n",
            "5\n",
            "6\n",
            "7\n",
            "8\n",
            "9\n"
          ]
        }
      ],
      "source": [
        "for i in range(0,10):\n",
        "    print(i)"
      ]
    },
    {
      "cell_type": "code",
      "execution_count": null,
      "id": "fdf6e26d-d105-4407-86ae-3e893de944dd",
      "metadata": {
        "id": "fdf6e26d-d105-4407-86ae-3e893de944dd",
        "outputId": "6fd48fc3-ce77-40e6-876b-f72588d772df"
      },
      "outputs": [
        {
          "name": "stdout",
          "output_type": "stream",
          "text": [
            "['Amazing' 'Great' 'Good' 'Awful' 'Okay' 'Mediocre' 'Bad' 'Painful'\n",
            " 'Unbearable' 'Disaster' 'Masterpiece']\n"
          ]
        }
      ],
      "source": [
        "#how many unique score phrases\n",
        "phrase = data['score_phrase'].unique()\n",
        "print(phrase)"
      ]
    },
    {
      "cell_type": "code",
      "execution_count": null,
      "id": "717c753b-f1c3-44f4-9a97-c87d5fd49fb9",
      "metadata": {
        "id": "717c753b-f1c3-44f4-9a97-c87d5fd49fb9",
        "outputId": "80be2145-354c-4e58-85e9-84149e7f00e0"
      },
      "outputs": [
        {
          "name": "stdout",
          "output_type": "stream",
          "text": [
            "all year information:\n",
            "[2012 2013 1996 1970 1997 1998 1999 2000 2001 2002 2003 2004 2005 2006\n",
            " 2007 2008 2009 2010 2011 2014 2015 2016]\n"
          ]
        }
      ],
      "source": [
        "#how many years of data you have\n",
        "year = data['release_year'].unique()\n",
        "print(\"all year information:\")\n",
        "print(year)"
      ]
    },
    {
      "cell_type": "code",
      "execution_count": null,
      "id": "09ca420b-6a29-4db4-8330-61e25db0262a",
      "metadata": {
        "id": "09ca420b-6a29-4db4-8330-61e25db0262a",
        "outputId": "584ce537-8703-44f5-8296-4055acd81380"
      },
      "outputs": [
        {
          "name": "stdout",
          "output_type": "stream",
          "text": [
            "release_year\n",
            "2008    1915\n",
            "2009    1687\n",
            "2007    1610\n",
            "2010    1363\n",
            "2006    1208\n",
            "2005    1088\n",
            "2011    1073\n",
            "2000    1045\n",
            "2004     997\n",
            "2003     969\n",
            "2002     936\n",
            "1999     775\n",
            "2012     753\n",
            "2013     696\n",
            "2001     688\n",
            "2014     537\n",
            "2015     365\n",
            "1998     339\n",
            "2016     226\n",
            "1997     205\n",
            "1996     149\n",
            "1970       1\n",
            "Name: count, dtype: int64\n"
          ]
        }
      ],
      "source": [
        "#how many games are there in each year\n",
        "games_number = data['release_year'].value_counts()\n",
        "print(games_number)"
      ]
    },
    {
      "cell_type": "code",
      "execution_count": null,
      "id": "b2c7df2d-4aba-4ef9-9676-64ec3795134d",
      "metadata": {
        "id": "b2c7df2d-4aba-4ef9-9676-64ec3795134d",
        "outputId": "360f13ad-4601-4462-ec56-83c4a57f3add"
      },
      "outputs": [
        {
          "name": "stdout",
          "output_type": "stream",
          "text": [
            "score_phrase\n",
            "Great          4773\n",
            "Good           4741\n",
            "Okay           2945\n",
            "Mediocre       1959\n",
            "Amazing        1804\n",
            "Bad            1269\n",
            "Awful           664\n",
            "Painful         340\n",
            "Unbearable       72\n",
            "Masterpiece      55\n",
            "Disaster          3\n",
            "Name: count, dtype: int64\n"
          ]
        }
      ],
      "source": [
        "score_phrase = data['score_phrase'].value_counts()\n",
        "print(score_phrase)"
      ]
    }
  ],
  "metadata": {
    "kernelspec": {
      "display_name": "Python 3 (ipykernel)",
      "language": "python",
      "name": "python3"
    },
    "language_info": {
      "codemirror_mode": {
        "name": "ipython",
        "version": 3
      },
      "file_extension": ".py",
      "mimetype": "text/x-python",
      "name": "python",
      "nbconvert_exporter": "python",
      "pygments_lexer": "ipython3",
      "version": "3.11.7"
    },
    "colab": {
      "provenance": []
    }
  },
  "nbformat": 4,
  "nbformat_minor": 5
}