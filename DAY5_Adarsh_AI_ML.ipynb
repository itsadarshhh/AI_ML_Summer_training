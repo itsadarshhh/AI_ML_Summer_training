{
  "nbformat": 4,
  "nbformat_minor": 0,
  "metadata": {
    "colab": {
      "provenance": []
    },
    "kernelspec": {
      "name": "python3",
      "display_name": "Python 3"
    },
    "language_info": {
      "name": "python"
    }
  },
  "cells": [
    {
      "cell_type": "code",
      "execution_count": null,
      "metadata": {
        "colab": {
          "base_uri": "https://localhost:8080/"
        },
        "id": "B_1VtU55lNsL",
        "outputId": "f3314a62-104d-462e-8b43-7266f77fa342"
      },
      "outputs": [
        {
          "output_type": "stream",
          "name": "stdout",
          "text": [
            "<class 'sklearn.utils._bunch.Bunch'>\n"
          ]
        }
      ],
      "source": [
        "from sklearn import datasets\n",
        "from sklearn import svm  #import the clasification model\n",
        "from sklearn import model_selection # to load functions for train test split\n",
        "from sklearn import metrics # to evaluate performance of the model\n",
        "\n",
        "#load the dataset (digit data )\n",
        "data = datasets.load_digits()\n",
        "print(type(data))"
      ]
    },
    {
      "cell_type": "code",
      "source": [
        "print(data.DESCR)"
      ],
      "metadata": {
        "colab": {
          "base_uri": "https://localhost:8080/"
        },
        "id": "bk9LarZfn-v8",
        "outputId": "c63a059c-8fe1-48d6-e835-dbcd99b5df70"
      },
      "execution_count": null,
      "outputs": [
        {
          "output_type": "stream",
          "name": "stdout",
          "text": [
            ".. _digits_dataset:\n",
            "\n",
            "Optical recognition of handwritten digits dataset\n",
            "--------------------------------------------------\n",
            "\n",
            "**Data Set Characteristics:**\n",
            "\n",
            "    :Number of Instances: 1797\n",
            "    :Number of Attributes: 64\n",
            "    :Attribute Information: 8x8 image of integer pixels in the range 0..16.\n",
            "    :Missing Attribute Values: None\n",
            "    :Creator: E. Alpaydin (alpaydin '@' boun.edu.tr)\n",
            "    :Date: July; 1998\n",
            "\n",
            "This is a copy of the test set of the UCI ML hand-written digits datasets\n",
            "https://archive.ics.uci.edu/ml/datasets/Optical+Recognition+of+Handwritten+Digits\n",
            "\n",
            "The data set contains images of hand-written digits: 10 classes where\n",
            "each class refers to a digit.\n",
            "\n",
            "Preprocessing programs made available by NIST were used to extract\n",
            "normalized bitmaps of handwritten digits from a preprinted form. From a\n",
            "total of 43 people, 30 contributed to the training set and different 13\n",
            "to the test set. 32x32 bitmaps are divided into nonoverlapping blocks of\n",
            "4x4 and the number of on pixels are counted in each block. This generates\n",
            "an input matrix of 8x8 where each element is an integer in the range\n",
            "0..16. This reduces dimensionality and gives invariance to small\n",
            "distortions.\n",
            "\n",
            "For info on NIST preprocessing routines, see M. D. Garris, J. L. Blue, G.\n",
            "T. Candela, D. L. Dimmick, J. Geist, P. J. Grother, S. A. Janet, and C.\n",
            "L. Wilson, NIST Form-Based Handprint Recognition System, NISTIR 5469,\n",
            "1994.\n",
            "\n",
            ".. topic:: References\n",
            "\n",
            "  - C. Kaynak (1995) Methods of Combining Multiple Classifiers and Their\n",
            "    Applications to Handwritten Digit Recognition, MSc Thesis, Institute of\n",
            "    Graduate Studies in Science and Engineering, Bogazici University.\n",
            "  - E. Alpaydin, C. Kaynak (1998) Cascading Classifiers, Kybernetika.\n",
            "  - Ken Tang and Ponnuthurai N. Suganthan and Xi Yao and A. Kai Qin.\n",
            "    Linear dimensionalityreduction using relevance weighted LDA. School of\n",
            "    Electrical and Electronic Engineering Nanyang Technological University.\n",
            "    2005.\n",
            "  - Claudio Gentile. A New Approximate Maximal Margin Classification\n",
            "    Algorithm. NIPS. 2000.\n",
            "\n"
          ]
        }
      ]
    },
    {
      "cell_type": "code",
      "source": [
        "X = data.data\n",
        "print(type(X))\n",
        "print(X.shape)"
      ],
      "metadata": {
        "colab": {
          "base_uri": "https://localhost:8080/"
        },
        "id": "4e7QOKmooI0T",
        "outputId": "429808bc-8f20-4578-bfa0-dfb4e72b399b"
      },
      "execution_count": null,
      "outputs": [
        {
          "output_type": "stream",
          "name": "stdout",
          "text": [
            "<class 'numpy.ndarray'>\n",
            "(1797, 64)\n"
          ]
        }
      ]
    },
    {
      "cell_type": "code",
      "source": [
        "y = data.target\n",
        "print(type(y))\n",
        "print(y.shape)\n",
        "# X variable holding all the features of data samples\n",
        "# Y variable is holding the labels of each data samples at the\n",
        "# respective position"
      ],
      "metadata": {
        "colab": {
          "base_uri": "https://localhost:8080/"
        },
        "id": "1DD5BypsqxIB",
        "outputId": "1ded7710-8a8f-44ab-9174-633774cf5ab8"
      },
      "execution_count": null,
      "outputs": [
        {
          "output_type": "stream",
          "name": "stdout",
          "text": [
            "<class 'numpy.ndarray'>\n",
            "(1797,)\n"
          ]
        }
      ]
    },
    {
      "cell_type": "code",
      "source": [
        "import matplotlib.image as mimg\n",
        "import matplotlib.pyplot as plt\n",
        "# visualise the data images\n",
        "images = data.images\n",
        "y = data.target\n",
        "print(type(images))\n",
        "print(images.shape)\n",
        "num = 1270\n",
        "samples_im = images[num,:,:]\n",
        "label = y[num]\n",
        "plt.figure(1,(2,2))\n",
        "plt.imshow(samples_im,cmap='gray')\n",
        "plt.title(\"Actual target:\"+str(label))\n",
        "plt.axis('off')"
      ],
      "metadata": {
        "colab": {
          "base_uri": "https://localhost:8080/",
          "height": 265
        },
        "id": "LyhXkUgTtw6V",
        "outputId": "eab39276-12de-4f8e-c49b-9442a0aa8fb5"
      },
      "execution_count": null,
      "outputs": [
        {
          "output_type": "stream",
          "name": "stdout",
          "text": [
            "<class 'numpy.ndarray'>\n",
            "(1797, 8, 8)\n"
          ]
        },
        {
          "output_type": "execute_result",
          "data": {
            "text/plain": [
              "(-0.5, 7.5, 7.5, -0.5)"
            ]
          },
          "metadata": {},
          "execution_count": 10
        },
        {
          "output_type": "display_data",
          "data": {
            "text/plain": [
              "<Figure size 200x200 with 1 Axes>"
            ],
            "image/png": "[encoded data removed]"
          },
          "metadata": {}
        }
      ]
    },
    {
      "cell_type": "code",
      "source": [
        "# there are benchmark ratio of data splitting\n",
        "# 60:40\n",
        "# 70 (training):30 (testing )\n",
        "# 80:20\n",
        "ratio = 0.3 # 0.3 stands for 30% testing ratio\n",
        "Xtrain,Xtest,ytrain,ytest= model_selection.train_test_split(X,y,test_size=ratio,random_state=5)\n",
        "print(\"Training dataset\")\n",
        "print(Xtrain.shape,ytrain.shape)\n",
        "print(\"Testing Dataset\")\n",
        "print(Xtest.shape,ytest.shape)"
      ],
      "metadata": {
        "colab": {
          "base_uri": "https://localhost:8080/"
        },
        "id": "EIR6eft4rhrJ",
        "outputId": "174e09fe-f9cb-482a-bc76-1397131fed4e"
      },
      "execution_count": null,
      "outputs": [
        {
          "output_type": "stream",
          "name": "stdout",
          "text": [
            "Training dataset\n",
            "(1257, 64) (1257,)\n",
            "Testing Dataset\n",
            "(540, 64) (540,)\n"
          ]
        }
      ]
    },
    {
      "cell_type": "markdown",
      "source": [
        "import matplotlib.image as mimg\n",
        "import matplotlib.pyplot as plt\n",
        "images = data.images\n",
        "y = data.target\n",
        "for i in range(40):\n",
        "  plt.figure()"
      ],
      "metadata": {
        "id": "RD0Msbxqxfwz"
      }
    },
    {
      "cell_type": "code",
      "source": [
        "import numpy as np\n",
        "# visualise the data images\n",
        "images = data.images\n",
        "y = data.target\n",
        "\n",
        "\n",
        "for i in range(49):\n",
        "  samp = np.random.randint(0,1797)\n",
        "  samples_im = images[samp,:,:]\n",
        "  label = y[samp]\n",
        "  plt.figure(1,(8,6))\n",
        "  plt.subplot(7,7,i+1)\n",
        "  plt.imshow(samples_im,cmap='gray')\n",
        "  plt.title(str(label))\n",
        "  plt.axis('off')\n"
      ],
      "metadata": {
        "colab": {
          "base_uri": "https://localhost:8080/",
          "height": 521
        },
        "id": "5NrGAXqM0FPC",
        "outputId": "ca3f016f-80de-44e3-d806-6984c77b015e"
      },
      "execution_count": null,
      "outputs": [
        {
          "output_type": "display_data",
          "data": {
            "text/plain": [
              "<Figure size 800x600 with 49 Axes>"
            ],
            "image/png": "[encoded data removed]"
          },
          "metadata": {}
        }
      ]
    },
    {
      "cell_type": "code",
      "source": [
        "# create the classification model\n",
        "# ( Support vector machine) (SVM)\n",
        "\n",
        "clf_model = svm.SVC() # classification model\n",
        "\n",
        "# train the model using the trianing data (Xtrain) and its respective labels (ytrain)\n",
        "clf_model = clf_model.fit(Xtrain,ytrain)\n",
        "\n",
        "\n",
        "# predict the labels of the testing dataset\n",
        "# pass the test data (Xtest) in the trained model\n",
        "ypred = clf_model.predict(Xtest)\n",
        "\n",
        "\n",
        "print(ypred.shape)\n",
        "print(ytest.shape)"
      ],
      "metadata": {
        "colab": {
          "base_uri": "https://localhost:8080/"
        },
        "id": "rDDOVcYn3DEB",
        "outputId": "936034d7-a5b1-4b99-c9c3-116e9f826de2"
      },
      "execution_count": null,
      "outputs": [
        {
          "output_type": "stream",
          "name": "stdout",
          "text": [
            "(540,)\n",
            "(540,)\n"
          ]
        }
      ]
    },
    {
      "cell_type": "code",
      "source": [
        "# evaluate the performance of the model\n",
        "# in all metrics function you have to pass , predicted and actual outputs\n",
        "acc = metrics.accuracy_score(ypred,ytest)\n",
        "\n",
        "conf_matrix = metrics.confusion_matrix(ypred,ytest)\n",
        "\n",
        "report = metrics.classification_report(ypred,ytest)\n",
        "\n",
        "print('Accuracy of the system: ', acc)\n",
        "print(' Confusion matrix of the model ')\n",
        "print(conf_matrix)\n",
        "print(\"Complete report \")\n",
        "print(report)"
      ],
      "metadata": {
        "colab": {
          "base_uri": "https://localhost:8080/"
        },
        "id": "UdjFHz_T3kfL",
        "outputId": "56afd507-c13f-4662-ccf3-8cff6714b06b"
      },
      "execution_count": null,
      "outputs": [
        {
          "output_type": "stream",
          "name": "stdout",
          "text": [
            "Accuracy of the system:  0.9851851851851852\n",
            " Confusion matrix of the model \n",
            "[[58  0  0  0  0  0  0  0  0  0]\n",
            " [ 0 52  0  0  0  0  0  0  1  0]\n",
            " [ 0  0 58  0  0  0  0  0  0  0]\n",
            " [ 0  0  0 57  0  0  0  0  0  0]\n",
            " [ 0  0  0  0 43  0  0  0  0  0]\n",
            " [ 0  0  0  1  0 63  0  0  0  1]\n",
            " [ 0  0  0  0  0  0 47  0  0  0]\n",
            " [ 0  0  0  0  0  0  0 58  0  0]\n",
            " [ 0  0  0  1  0  0  0  0 48  1]\n",
            " [ 0  0  0  0  0  1  0  1  1 48]]\n",
            "Complete report \n",
            "              precision    recall  f1-score   support\n",
            "\n",
            "           0       1.00      1.00      1.00        58\n",
            "           1       1.00      0.98      0.99        53\n",
            "           2       1.00      1.00      1.00        58\n",
            "           3       0.97      1.00      0.98        57\n",
            "           4       1.00      1.00      1.00        43\n",
            "           5       0.98      0.97      0.98        65\n",
            "           6       1.00      1.00      1.00        47\n",
            "           7       0.98      1.00      0.99        58\n",
            "           8       0.96      0.96      0.96        50\n",
            "           9       0.96      0.94      0.95        51\n",
            "\n",
            "    accuracy                           0.99       540\n",
            "   macro avg       0.99      0.99      0.99       540\n",
            "weighted avg       0.99      0.99      0.99       540\n",
            "\n"
          ]
        }
      ]
    },
    {
      "cell_type": "code",
      "source": [
        "# evaluate the performance of the model\n",
        "# in all metrics function you have to pass , predicted and actual outputs\n",
        "acc = metrics.accuracy_score(ypred,ytest)\n",
        "\n",
        "conf_matrix = metrics.confusion_matrix(ypred,ytest)\n",
        "\n",
        "report = metrics.classification_report(ypred,ytest)\n",
        "\n",
        "print('Accuracy of the system: ', acc)\n",
        "print(' Confusion matrix of the model ')\n",
        "print(conf_matrix)\n",
        "print(\"Complete report \")\n",
        "print(report)"
      ],
      "metadata": {
        "colab": {
          "base_uri": "https://localhost:8080/"
        },
        "id": "H3d4SDbx6Zp7",
        "outputId": "0548d44e-3a5b-41ca-c114-b44e7d293d12"
      },
      "execution_count": null,
      "outputs": [
        {
          "output_type": "stream",
          "name": "stdout",
          "text": [
            "Accuracy of the system:  0.9851851851851852\n",
            " Confusion matrix of the model \n",
            "[[58  0  0  0  0  0  0  0  0  0]\n",
            " [ 0 52  0  0  0  0  0  0  1  0]\n",
            " [ 0  0 58  0  0  0  0  0  0  0]\n",
            " [ 0  0  0 57  0  0  0  0  0  0]\n",
            " [ 0  0  0  0 43  0  0  0  0  0]\n",
            " [ 0  0  0  1  0 63  0  0  0  1]\n",
            " [ 0  0  0  0  0  0 47  0  0  0]\n",
            " [ 0  0  0  0  0  0  0 58  0  0]\n",
            " [ 0  0  0  1  0  0  0  0 48  1]\n",
            " [ 0  0  0  0  0  1  0  1  1 48]]\n",
            "Complete report \n",
            "              precision    recall  f1-score   support\n",
            "\n",
            "           0       1.00      1.00      1.00        58\n",
            "           1       1.00      0.98      0.99        53\n",
            "           2       1.00      1.00      1.00        58\n",
            "           3       0.97      1.00      0.98        57\n",
            "           4       1.00      1.00      1.00        43\n",
            "           5       0.98      0.97      0.98        65\n",
            "           6       1.00      1.00      1.00        47\n",
            "           7       0.98      1.00      0.99        58\n",
            "           8       0.96      0.96      0.96        50\n",
            "           9       0.96      0.94      0.95        51\n",
            "\n",
            "    accuracy                           0.99       540\n",
            "   macro avg       0.99      0.99      0.99       540\n",
            "weighted avg       0.99      0.99      0.99       540\n",
            "\n"
          ]
        }
      ]
    },
    {
      "cell_type": "code",
      "source": [
        "import seaborn as sns\n",
        "plt.figure(1)\n",
        "sns.heatmap(conf_matrix,annot=True,cmap='jet')\n",
        "plt.title(\"Confusion matrix for digit dataset\")\n"
      ],
      "metadata": {
        "colab": {
          "base_uri": "https://localhost:8080/",
          "height": 469
        },
        "id": "OhWQC5DN6ci6",
        "outputId": "2aab90b1-5fff-4546-def2-9af39a47a8b2"
      },
      "execution_count": null,
      "outputs": [
        {
          "output_type": "execute_result",
          "data": {
            "text/plain": [
              "Text(0.5, 1.0, 'Confusion matrix for digit dataset')"
            ]
          },
          "metadata": {},
          "execution_count": 17
        },
        {
          "output_type": "display_data",
          "data": {
            "text/plain": [
              "<Figure size 640x480 with 2 Axes>"
            ],
            "image/png": "[encoded data removed]"
          },
          "metadata": {}
        }
      ]
    },
    {
      "cell_type": "code",
      "source": [
        "# load the iris dataset\n",
        "# understand the datset from its DESCR\n",
        "# and implement the 60:40 and 70:30 ratio train test split\n",
        "# and compare its acc, precision, recall and f1_score\n",
        "# for each split\n",
        "\n",
        "# load the iris dataset\n",
        "# understand the datset from its DESCR\n",
        "# and implement the 60:40 and 70:30 ratio train test split\n",
        "# and compare its acc, precision, recall and f1_score\n",
        "# for each split\n",
        "\n",
        "from sklearn import metrics,datasets,model_selection,svm\n",
        "data = datasets.load_iris()\n",
        "\n",
        "X = data.data\n",
        "y = data.target\n",
        "Result = np.zeros((2,4))\n",
        "ratio= [0.4,0.3]\n",
        "for i in range(len(ratio)):\n",
        "  Xtrain,Xtest,ytrain,ytest = model_selection.train_test_split(X,y,test_size=ratio[i],random_state=5)\n",
        "  # create the model\n",
        "  clf_model = svm.SVC()\n",
        "  # train the model\n",
        "  clf_model = clf_model.fit(Xtrain,ytrain)\n",
        "  # test the model\n",
        "  ypred = clf_model.predict(Xtest)\n",
        "\n",
        "  # accuracy\n",
        "  temp_acc = metrics.accuracy_score(ypred,ytest)\n",
        "  # precision\n",
        "  temp_pre = metrics.precision_score(ypred,ytest,average='macro')\n",
        "  # recall\n",
        "  temp_rec = metrics.recall_score(ypred,ytest,average='macro')\n",
        "  # f1 score\n",
        "  temp_f1 = metrics.f1_score(ypred,ytest,average='macro')\n",
        "\n",
        "  list_result = [temp_acc,temp_pre,temp_rec,temp_f1]\n",
        "  Result[i,:]=list_result\n",
        "\n",
        "print(Result)\n",
        "res = ['Accuracy','Precision','Recall','F1_score']\n",
        "\n",
        "import pandas as pd\n",
        "res_df = pd.DataFrame(Result,columns=res,index=['60:40','70:30'])\n",
        "print(res_df)"
      ],
      "metadata": {
        "colab": {
          "base_uri": "https://localhost:8080/"
        },
        "id": "RnwDwQbJ8wzK",
        "outputId": "12c0d8f3-4112-47aa-81eb-baa0b9ddab85"
      },
      "execution_count": null,
      "outputs": [
        {
          "output_type": "stream",
          "name": "stdout",
          "text": [
            "[[0.98333333 0.98412698 0.98333333 0.98332291]\n",
            " [0.97777778 0.97916667 0.97777778 0.97775306]]\n",
            "       Accuracy  Precision    Recall  F1_score\n",
            "60:40  0.983333   0.984127  0.983333  0.983323\n",
            "70:30  0.977778   0.979167  0.977778  0.977753\n"
          ]
        }
      ]
    },
    {
      "cell_type": "code",
      "source": [
        "res_df.T.plot(kind = 'bar')"
      ],
      "metadata": {
        "colab": {
          "base_uri": "https://localhost:8080/",
          "height": 496
        },
        "id": "zKSNFJ2lC_FK",
        "outputId": "c6c6157d-4234-4561-851a-c0467d26491d"
      },
      "execution_count": null,
      "outputs": [
        {
          "output_type": "execute_result",
          "data": {
            "text/plain": [
              "<Axes: >"
            ]
          },
          "metadata": {},
          "execution_count": 19
        },
        {
          "output_type": "display_data",
          "data": {
            "text/plain": [
              "<Figure size 640x480 with 1 Axes>"
            ],
            "image/png": "[encoded data removed]"
          },
          "metadata": {}
        }
      ]
    }
  ]
}